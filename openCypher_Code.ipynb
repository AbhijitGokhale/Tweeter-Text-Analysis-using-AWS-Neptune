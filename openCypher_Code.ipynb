{
 "cells": [
  {
   "cell_type": "code",
   "execution_count": 74,
   "id": "3fb7691a",
   "metadata": {},
   "outputs": [
    {
     "data": {
      "text/plain": [
       "{'status': 'healthy',\n",
       " 'startTime': 'Mon May 02 12:28:01 UTC 2022',\n",
       " 'dbEngineVersion': '1.1.1.0.R1',\n",
       " 'role': 'writer',\n",
       " 'dfeQueryEngine': 'viaQueryHint',\n",
       " 'gremlin': {'version': 'tinkerpop-3.5.2'},\n",
       " 'sparql': {'version': 'sparql-1.1'},\n",
       " 'opencypher': {'version': 'Neptune-9.0.20190305-1.0'},\n",
       " 'labMode': {'ObjectIndex': 'disabled',\n",
       "  'ReadWriteConflictDetection': 'enabled'},\n",
       " 'features': {'ResultCache': {'status': 'disabled'},\n",
       "  'IAMAuthentication': 'disabled',\n",
       "  'Streams': 'disabled',\n",
       "  'AuditLog': 'disabled'},\n",
       " 'settings': {'clusterQueryTimeoutInMs': '120000'}}"
      ]
     },
     "execution_count": 74,
     "metadata": {},
     "output_type": "execute_result"
    }
   ],
   "source": [
    "# Checking the status of Neptune Database. \"Healthy\" means it is working correctly.\n",
    "%status"
   ]
  },
  {
   "cell_type": "markdown",
   "id": "71c9fce0",
   "metadata": {},
   "source": [
    "## Create the graph\n",
    "\n",
    "In below graph we are creating a tweet database for three users \"mafudge\", \"Shubh143\", \"agokhale\". The objective is to visualize the tweets, retweets done by these users with appropriate hashtags\n",
    "\n",
    "%%oc :- This way we can write Cypher queries in jupyter supported by Neptune"
   ]
  },
  {
   "cell_type": "code",
   "execution_count": 6,
   "id": "630ba40f",
   "metadata": {},
   "outputs": [
    {
     "data": {
      "application/vnd.jupyter.widget-view+json": {
       "model_id": "4892a310777a45c7974f6b039be88a65",
       "version_major": 2,
       "version_minor": 0
      },
      "text/plain": [
       "Tab()"
      ]
     },
     "metadata": {},
     "output_type": "display_data"
    }
   ],
   "source": [
    "%%oc\n",
    "CREATE (shubh143:User {handle: \"shubh143\", followers: 30})\n",
    "CREATE (agokhale:User {handle: \"agokhale\", followers: 40})\n",
    "CREATE (mafudge:User {handle: \"mafudge\", followers: 1000})\n",
    "\n",
    "\n",
    "CREATE (tweet1:Tweet {text: \"As part of your latest, but it backend, databases, image generation. And proudly so Thanks for 222tez. #database\", likes: 3 })\n",
    "CREATE (tweet2:Tweet {text: \"Ooooh, interesting! Just donated thanks In that insta-caches bitmaps and rarity scores are more. #awesome\", likes: 23 })\n",
    "CREATE (tweet3:Tweet {text: \"Provides a lot of this Wednesday 27th of a few weeks, will be the animation, which makes sense of it. @mafudge #bethere #awesome\", likes: 35 })\n",
    "CREATE (tweet4:Tweet {text: \"Compared to mint: You can recognize something : Heres a computer scientists do. And I could make a? #haha\", likes: 78 })\n",
    "CREATE (tweet5:Tweet {text: \"Collected some months, but the shout out in my first still… I'm going strong : Collected My pleasure? #awesome\", likes: 30 })\n",
    "CREATE (tweet6:Tweet {text: \"I'm still running and rarity scores are more general than that. Art, yes. But I also attended collector? #database #haha #awesome\", likes: 31 })\n",
    "CREATE (tweet7:Tweet {text: \"Also, spotted this unique artwork to t… Roughly the grand opening? : I'm still disabled, opens 17:00! #bethere\", likes: 98 })\n",
    "CREATE (tweet8:Tweet {text: \"Yeah I am Herbert and your iterative development and more professio… Thank you very much! Cool idea of? #database #haha\", likes: 76 })\n",
    "CREATE (tweet9:Tweet {text: \"Thank you all! You can now see Fire Cards changed hands yesterday. Median 120tz, 2 last editions will be. #awesome\", likes: 44 })\n",
    "CREATE (tweet10:Tweet {text: \"You can find them b… Ooooh, interesting! Just added some small fixes to go and Flash. Suddenly I. #haha #awesome\", likes: 11 })\n",
    "\n",
    "CREATE (haha:HASHTAG {hashtag: \"#haha\"})\n",
    "CREATE (awesome:HASHTAG {hashtag: \"#awesome\"})\n",
    "CREATE (bethere:HASHTAG {hashtag: \"#bethere\"})\n",
    "CREATE (database:HASHTAG {hashtag: \"#database\"})\n",
    "\n",
    "CREATE (shubh143)-[:TWEETED {date: \"03/14/2022\"}]-> (tweet1)\n",
    "CREATE (shubh143)-[:TWEETED {date: \"01/19/2022\"}]-> (tweet2)\n",
    "CREATE (shubh143)-[:TWEETED {date: \"12/14/2021\"}]-> (tweet3)\n",
    "CREATE (agokhale)-[:TWEETED {date: \"03/14/2022\"}]-> (tweet4)\n",
    "CREATE (agokhale)-[:TWEETED {date: \"04/2/2022\"}]-> (tweet5)\n",
    "CREATE (agokhale)-[:TWEETED {date: \"01/8/2022\"}]-> (tweet6)\n",
    "CREATE (agokhale)-[:TWEETED {date: \"11/18/2021\"}]-> (tweet7)\n",
    "CREATE (mafudge)-[:TWEETED {date: \"02/01/2021\"}]-> (tweet8)\n",
    "CREATE (mafudge)-[:TWEETED {date: \"12/04/2021\"}]-> (tweet9)\n",
    "CREATE (mafudge)-[:TWEETED {date: \"01/8/2022\"}]-> (tweet10)\n",
    "\n",
    "CREATE(mafudge)-[:RETWEETED {date: \"01/09/2022\"}] -> (tweet3)\n",
    "CREATE (shubh143)-[:RETWEETED {date: \"01/19/2022\"}] -> (tweet9)\n",
    "CREATE (agokhale)-[:RETWEETED {date: \"09/19/2022\"}] -> (tweet3)\n",
    "CREATE (agokhale)-[:RETWEETED {date: \"04/19/2022\"}] -> (tweet10)\n",
    "\n",
    "CREATE (tweet1)-[:HAS_HASHTAG]->(database)\n",
    "CREATE (tweet2)-[:HAS_HASHTAG]->(awesome)\n",
    "CREATE (tweet3)-[:HAS_HASHTAG]->(awesome)\n",
    "CREATE (tweet3)-[:HAS_HASHTAG]->(bethere)\n",
    "CREATE (tweet4)-[:HAS_HASHTAG]->(haha)\n",
    "CREATE (tweet5)-[:HAS_HASHTAG]->(awesome)\n",
    "CREATE (tweet6)-[:HAS_HASHTAG]->(database)\n",
    "CREATE (tweet6)-[:HAS_HASHTAG]->(awesome)\n",
    "CREATE (tweet6)-[:HAS_HASHTAG]->(haha)\n",
    "CREATE (tweet7)-[:HAS_HASHTAG]->(bethere)\n",
    "CREATE (tweet8)-[:HAS_HASHTAG]->(haha)\n",
    "CREATE (tweet8)-[:HAS_HASHTAG]->(database)\n",
    "CREATE (tweet9)-[:HAS_HASHTAG]->(awesome)\n",
    "CREATE (tweet10)-[:HAS_HASHTAG]->(haha)\n",
    "CREATE (tweet10)-[:HAS_HASHTAG]->(awesome)\n",
    "\n",
    "CREATE (shubh143)-[:USED_HASHTAG]->(database)\n",
    "CREATE (shubh143)-[:USED_HASHTAG]->(awesome)\n",
    "CREATE (shubh143)-[:USED_HASHTAG]->(bethere)\n",
    "CREATE (agokhale)-[:USED_HASHTAG]->(bethere)\n",
    "CREATE (agokhale)-[:USED_HASHTAG]->(haha)\n",
    "CREATE (agokhale)-[:USED_HASHTAG]->(awesome)\n",
    "CREATE (agokhale)-[:USED_HASHTAG]->(database)\n",
    "CREATE (mafudge)-[:USED_HASHTAG]->(database)\n",
    "CREATE (mafudge)-[:USED_HASHTAG]->(awesome)\n",
    "CREATE (mafudge)-[:USED_HASHTAG]->(haha)\n",
    "\n",
    "CREATE (shubh143)-[:MENTIONED]->(mafudge)"
   ]
  },
  {
   "cell_type": "markdown",
   "id": "1cd394c3",
   "metadata": {},
   "source": [
    "### Visualization of the graph\n",
    "\n",
    "Running the next two cells will create a visualization of the entire tweeter graph. The cell immediately below is used to define a mapping between node labels and the property to be used to label nodes in the visualization."
   ]
  },
  {
   "cell_type": "code",
   "execution_count": 72,
   "id": "11b9aa2b",
   "metadata": {},
   "outputs": [],
   "source": [
    "display_var = '{\"User\":\"handle\",\"Tweet\":\"text\",\"HASHTAG\":\"hashtag\"}'"
   ]
  },
  {
   "cell_type": "markdown",
   "id": "a71a3174",
   "metadata": {},
   "source": [
    "The query below creates a path containing the entire graph structure. The `-d` hint is used to enable the mappings defined above. The `-l` hint sets the maximum length of the text that can be displayed in a node. The text will be truncated 3 characters short of that length in cases where there is more text to display. An elipsis `...` is used to indicate that not all of the text was shown."
   ]
  },
  {
   "cell_type": "code",
   "execution_count": 73,
   "id": "3ea51301",
   "metadata": {
    "scrolled": false
   },
   "outputs": [
    {
     "data": {
      "application/vnd.jupyter.widget-view+json": {
       "model_id": "dafdc0a56e1e4b6abe2e404e3cd5ea05",
       "version_major": 2,
       "version_minor": 0
      },
      "text/plain": [
       "Tab()"
      ]
     },
     "metadata": {},
     "output_type": "display_data"
    }
   ],
   "source": [
    "%%oc -d $display_var -l20\n",
    "MATCH (n)-[r]->(d) RETURN n, r, d"
   ]
  },
  {
   "cell_type": "markdown",
   "id": "63c970ec",
   "metadata": {},
   "source": [
    "## Explore the relationships in the graph "
   ]
  },
  {
   "cell_type": "markdown",
   "id": "33877a2c",
   "metadata": {},
   "source": [
    "In the below code we are understanding tweets done by uer mafudge with #awesome hashtag"
   ]
  },
  {
   "cell_type": "code",
   "execution_count": 75,
   "id": "f92b61b6",
   "metadata": {
    "scrolled": true
   },
   "outputs": [
    {
     "data": {
      "application/vnd.jupyter.widget-view+json": {
       "model_id": "58fe0813554e4c92b4a820a6837d8621",
       "version_major": 2,
       "version_minor": 0
      },
      "text/plain": [
       "Tab()"
      ]
     },
     "metadata": {},
     "output_type": "display_data"
    }
   ],
   "source": [
    "%%oc\n",
    "\n",
    "match (u:User {handle:'mafudge'})-->(TWEETED)-->(HAS_HASHTAG {hashtag:\"#awesome\"})\n",
    "return u.handle as Handle_Name, TWEETED.text as Tweet, HAS_HASHTAG.hashtag as Hashtag"
   ]
  },
  {
   "cell_type": "markdown",
   "id": "71a4de91",
   "metadata": {},
   "source": [
    "In the below code we are understanding follower counts of users greater than 30 which are using #awesome hashtags in their tweets"
   ]
  },
  {
   "cell_type": "code",
   "execution_count": 76,
   "id": "9fca4dc7",
   "metadata": {},
   "outputs": [
    {
     "data": {
      "application/vnd.jupyter.widget-view+json": {
       "model_id": "2871c4d4450a4ad798fd538033d2301d",
       "version_major": 2,
       "version_minor": 0
      },
      "text/plain": [
       "Tab()"
      ]
     },
     "metadata": {},
     "output_type": "display_data"
    }
   ],
   "source": [
    "%%oc\n",
    "\n",
    "match (u:User)-->(HAS_HASHTAG {hashtag:\"#awesome\"})\n",
    "where u.followers > 30\n",
    "return u.handle as Handle_Name, HAS_HASHTAG.hashtag as Hashtag"
   ]
  },
  {
   "cell_type": "markdown",
   "id": "87fd5a5b",
   "metadata": {},
   "source": [
    "Exploring the search option in the output console to analyze the use of specific keyword in our case '-thanks'"
   ]
  },
  {
   "cell_type": "code",
   "execution_count": 77,
   "id": "61ff619b",
   "metadata": {},
   "outputs": [
    {
     "data": {
      "application/vnd.jupyter.widget-view+json": {
       "model_id": "0425fda3319742818031224ae371c6b7",
       "version_major": 2,
       "version_minor": 0
      },
      "text/plain": [
       "Tab()"
      ]
     },
     "metadata": {},
     "output_type": "display_data"
    }
   ],
   "source": [
    "%%oc\n",
    "\n",
    "match (u:User),(t:Tweet)\n",
    "return u.handle, t.text"
   ]
  },
  {
   "cell_type": "code",
   "execution_count": null,
   "id": "dda9a545",
   "metadata": {},
   "outputs": [],
   "source": []
  },
  {
   "cell_type": "code",
   "execution_count": null,
   "id": "b9476e8c",
   "metadata": {},
   "outputs": [],
   "source": []
  },
  {
   "cell_type": "code",
   "execution_count": null,
   "id": "9122b2aa",
   "metadata": {},
   "outputs": [],
   "source": []
  },
  {
   "cell_type": "code",
   "execution_count": null,
   "id": "e47c6722",
   "metadata": {},
   "outputs": [],
   "source": []
  },
  {
   "cell_type": "code",
   "execution_count": null,
   "id": "5d9946ba",
   "metadata": {},
   "outputs": [],
   "source": []
  },
  {
   "cell_type": "code",
   "execution_count": null,
   "id": "3903ce22",
   "metadata": {},
   "outputs": [],
   "source": []
  },
  {
   "cell_type": "code",
   "execution_count": null,
   "id": "93563b74",
   "metadata": {},
   "outputs": [],
   "source": []
  },
  {
   "cell_type": "code",
   "execution_count": null,
   "id": "8499b615",
   "metadata": {},
   "outputs": [],
   "source": []
  },
  {
   "cell_type": "code",
   "execution_count": null,
   "id": "6b65680f",
   "metadata": {},
   "outputs": [],
   "source": []
  },
  {
   "cell_type": "code",
   "execution_count": null,
   "id": "8dc54d18",
   "metadata": {},
   "outputs": [],
   "source": []
  },
  {
   "cell_type": "code",
   "execution_count": null,
   "id": "23d75a26",
   "metadata": {},
   "outputs": [],
   "source": []
  }
 ],
 "metadata": {
  "kernelspec": {
   "display_name": "Python 3",
   "language": "python",
   "name": "python3"
  },
  "language_info": {
   "codemirror_mode": {
    "name": "ipython",
    "version": 3
   },
   "file_extension": ".py",
   "mimetype": "text/x-python",
   "name": "python",
   "nbconvert_exporter": "python",
   "pygments_lexer": "ipython3",
   "version": "3.7.12"
  }
 },
 "nbformat": 4,
 "nbformat_minor": 5
}
